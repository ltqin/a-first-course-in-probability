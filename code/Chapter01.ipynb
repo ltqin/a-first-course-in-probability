{
 "cells": [
  {
   "cell_type": "code",
   "execution_count": 1,
   "id": "616fda4f",
   "metadata": {},
   "outputs": [],
   "source": [
    "import itertools as it"
   ]
  },
  {
   "cell_type": "code",
   "execution_count": 2,
   "id": "f5193037",
   "metadata": {},
   "outputs": [],
   "source": [
    "L=[1,2,3,4]"
   ]
  },
  {
   "cell_type": "markdown",
   "id": "d6f11867",
   "metadata": {},
   "source": [
    "### 排列"
   ]
  },
  {
   "cell_type": "code",
   "execution_count": 24,
   "id": "01cf33eb",
   "metadata": {},
   "outputs": [
    {
     "data": {
      "text/plain": [
       "[(1,), (2,), (3,), (4,)]"
      ]
     },
     "execution_count": 24,
     "metadata": {},
     "output_type": "execute_result"
    }
   ],
   "source": [
    "A=list(it.permutations(L,1)) #len(A)=4\n",
    "A"
   ]
  },
  {
   "cell_type": "code",
   "execution_count": 23,
   "id": "69b45e1a",
   "metadata": {},
   "outputs": [
    {
     "data": {
      "text/plain": [
       "[(1, 2),\n",
       " (1, 3),\n",
       " (1, 4),\n",
       " (2, 1),\n",
       " (2, 3),\n",
       " (2, 4),\n",
       " (3, 1),\n",
       " (3, 2),\n",
       " (3, 4),\n",
       " (4, 1),\n",
       " (4, 2),\n",
       " (4, 3)]"
      ]
     },
     "execution_count": 23,
     "metadata": {},
     "output_type": "execute_result"
    }
   ],
   "source": [
    "A=list(it.permutations(L,2)) #len(A)=4*3\n",
    "A"
   ]
  },
  {
   "cell_type": "code",
   "execution_count": 28,
   "id": "9ae759e2",
   "metadata": {},
   "outputs": [
    {
     "data": {
      "text/plain": [
       "24"
      ]
     },
     "execution_count": 28,
     "metadata": {},
     "output_type": "execute_result"
    }
   ],
   "source": [
    "A=list(it.permutations(L,3))  #len(A) = 4*3*2\n",
    "len(A)"
   ]
  },
  {
   "cell_type": "code",
   "execution_count": 27,
   "id": "4bd50b67",
   "metadata": {},
   "outputs": [
    {
     "data": {
      "text/plain": [
       "24"
      ]
     },
     "execution_count": 27,
     "metadata": {},
     "output_type": "execute_result"
    }
   ],
   "source": [
    "A=list(it.permutations(L,4))  #len(A)=4*3*2*1\n",
    "len(A)"
   ]
  },
  {
   "cell_type": "markdown",
   "id": "80fc1fb9",
   "metadata": {},
   "source": [
    "####  组合\n",
    "> 组合不考虑元素的顺序"
   ]
  },
  {
   "cell_type": "code",
   "execution_count": 3,
   "id": "1c9b1848",
   "metadata": {},
   "outputs": [
    {
     "data": {
      "text/plain": [
       "[(1,), (2,), (3,), (4,)]"
      ]
     },
     "execution_count": 3,
     "metadata": {},
     "output_type": "execute_result"
    }
   ],
   "source": [
    "list(it.combinations(L,1))"
   ]
  },
  {
   "cell_type": "code",
   "execution_count": 4,
   "id": "cae74847",
   "metadata": {},
   "outputs": [
    {
     "data": {
      "text/plain": [
       "[(1, 2), (1, 3), (1, 4), (2, 3), (2, 4), (3, 4)]"
      ]
     },
     "execution_count": 4,
     "metadata": {},
     "output_type": "execute_result"
    }
   ],
   "source": [
    "list(it.combinations(L,2))"
   ]
  },
  {
   "cell_type": "code",
   "execution_count": 12,
   "id": "1afd46f8",
   "metadata": {},
   "outputs": [
    {
     "data": {
      "text/plain": [
       "[(1, 2, 3), (1, 2, 4), (1, 3, 4), (2, 3, 4)]"
      ]
     },
     "execution_count": 12,
     "metadata": {},
     "output_type": "execute_result"
    }
   ],
   "source": [
    "list(it.combinations(L,3)) "
   ]
  },
  {
   "cell_type": "code",
   "execution_count": 13,
   "id": "eb405c7c",
   "metadata": {},
   "outputs": [
    {
     "data": {
      "text/plain": [
       "[(1, 2, 3, 4)]"
      ]
     },
     "execution_count": 13,
     "metadata": {},
     "output_type": "execute_result"
    }
   ],
   "source": [
    "list(it.combinations(L,4)) "
   ]
  },
  {
   "cell_type": "markdown",
   "id": "5143f7db",
   "metadata": {},
   "source": [
    "### one test  \n",
    "$$\\binom{10}{4} = \\sum_{i=3}^{9} \\binom{i}{3}$$"
   ]
  },
  {
   "cell_type": "code",
   "execution_count": 22,
   "id": "db40d58a",
   "metadata": {},
   "outputs": [],
   "source": [
    "import numpy as np"
   ]
  },
  {
   "cell_type": "code",
   "execution_count": 25,
   "id": "28343ca5",
   "metadata": {},
   "outputs": [
    {
     "name": "stdout",
     "output_type": "stream",
     "text": [
      "3 1\n",
      "4 4\n",
      "5 10\n",
      "6 20\n",
      "7 35\n",
      "8 56\n",
      "9 84\n",
      "210\n"
     ]
    }
   ],
   "source": [
    "i = 3\n",
    "sum_ = 0;\n",
    "while i < 10:\n",
    "    A=np.arange(0,i,1)\n",
    "    len_= len(list(it.combinations(A,3)))\n",
    "    sum_ += len_\n",
    "    print(i,len_)\n",
    "    i = i+1\n",
    "print(sum_)"
   ]
  },
  {
   "cell_type": "code",
   "execution_count": 27,
   "id": "84df1c2e",
   "metadata": {},
   "outputs": [
    {
     "data": {
      "text/plain": [
       "210"
      ]
     },
     "execution_count": 27,
     "metadata": {},
     "output_type": "execute_result"
    }
   ],
   "source": [
    "A=np.arange(0,10,1)\n",
    "len(list(it.combinations(A,4)))"
   ]
  },
  {
   "cell_type": "markdown",
   "id": "e822ec29",
   "metadata": {},
   "source": [
    "###  推论\n",
    "$$\\binom{n+1}{m+1} = \\sum_{i=m}^{n} \\binom{i}{m}$$"
   ]
  },
  {
   "cell_type": "code",
   "execution_count": null,
   "id": "22d5d743",
   "metadata": {},
   "outputs": [],
   "source": []
  }
 ],
 "metadata": {
  "kernelspec": {
   "display_name": "Python 3",
   "language": "python",
   "name": "python3"
  },
  "language_info": {
   "codemirror_mode": {
    "name": "ipython",
    "version": 3
   },
   "file_extension": ".py",
   "mimetype": "text/x-python",
   "name": "python",
   "nbconvert_exporter": "python",
   "pygments_lexer": "ipython3",
   "version": "3.6.9"
  },
  "vscode": {
   "interpreter": {
    "hash": "31f2aee4e71d21fbe5cf8b01ff0e069b9275f58929596ceb00d14d90e3e16cd6"
   }
  }
 },
 "nbformat": 4,
 "nbformat_minor": 5
}
